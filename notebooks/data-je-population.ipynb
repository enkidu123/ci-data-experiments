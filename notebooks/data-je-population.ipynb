{
 "cells": [
  {
   "cell_type": "markdown",
   "metadata": {},
   "source": [
    "Jersey population\n",
    "=========\n",
    "\n",
    "Data taken from:\n",
    "\n",
    "http://www.gov.je/Government/Census/Census2011/Pages/2011CensusResults.aspx\n",
    "\n",
    "Detailed data tables."
   ]
  },
  {
   "cell_type": "code",
   "execution_count": 1,
   "metadata": {
    "collapsed": false
   },
   "outputs": [
    {
     "data": {
      "text/html": [
       "<div>\n",
       "<table border=\"1\" class=\"dataframe\">\n",
       "  <thead>\n",
       "    <tr style=\"text-align: right;\">\n",
       "      <th></th>\n",
       "      <th>Males</th>\n",
       "      <th>Females</th>\n",
       "    </tr>\n",
       "    <tr>\n",
       "      <th>Year</th>\n",
       "      <th></th>\n",
       "      <th></th>\n",
       "    </tr>\n",
       "  </thead>\n",
       "  <tbody>\n",
       "    <tr>\n",
       "      <th>1821</th>\n",
       "      <td>13056</td>\n",
       "      <td>15544</td>\n",
       "    </tr>\n",
       "    <tr>\n",
       "      <th>1831</th>\n",
       "      <td>17006</td>\n",
       "      <td>19576</td>\n",
       "    </tr>\n",
       "    <tr>\n",
       "      <th>1841</th>\n",
       "      <td>21602</td>\n",
       "      <td>25942</td>\n",
       "    </tr>\n",
       "    <tr>\n",
       "      <th>1851</th>\n",
       "      <td>26238</td>\n",
       "      <td>30782</td>\n",
       "    </tr>\n",
       "    <tr>\n",
       "      <th>1861</th>\n",
       "      <td>24843</td>\n",
       "      <td>30770</td>\n",
       "    </tr>\n",
       "  </tbody>\n",
       "</table>\n",
       "</div>"
      ],
      "text/plain": [
       "      Males  Females\n",
       "Year                \n",
       "1821  13056    15544\n",
       "1831  17006    19576\n",
       "1841  21602    25942\n",
       "1851  26238    30782\n",
       "1861  24843    30770"
      ]
     },
     "execution_count": 1,
     "metadata": {},
     "output_type": "execute_result"
    }
   ],
   "source": [
    "import pandas\n",
    "from StringIO import StringIO\n",
    "\n",
    "csv_population = \"\"\"\n",
    "Year,Males,Females\n",
    "1821,13056,15544\n",
    "1831,17006,19576\n",
    "1841,21602,25942\n",
    "1851,26238,30782\n",
    "1861,24843,30770\n",
    "1871,24875,31752\n",
    "1881,23485,28960\n",
    "1891,24965,29553\n",
    "1901,23940,28636\n",
    "1911,24014,27884\n",
    "1921,22438,27263\n",
    "1931,23424,27038\n",
    "1939,23956,27124\n",
    "1951,27291,30019\n",
    "1961,28664,30825\n",
    "1971,33770,35559\n",
    "1976,34388,36630\n",
    "1981,36496,39554\n",
    "1986,38751,41461\n",
    "1989,40086,42723\n",
    "1991,40862,43220\n",
    "1996,41394,43756\n",
    "2001,42484,44702\n",
    "2011,48296,49561\n",
    "\"\"\"\n",
    "df = pandas.read_csv(StringIO(csv_population))\n",
    "df.set_index('Year', inplace=True)\n",
    "df.head()"
   ]
  },
  {
   "cell_type": "code",
   "execution_count": 2,
   "metadata": {
    "collapsed": false
   },
   "outputs": [
    {
     "data": {
      "text/plain": [
       "[(0, 100000.0)]"
      ]
     },
     "execution_count": 2,
     "metadata": {},
     "output_type": "execute_result"
    },
    {
     "data": {
      "image/png": "[encoded data removed]",
      "text/plain": [
       "<matplotlib.figure.Figure at 0x7f923368a090>"
      ]
     },
     "metadata": {},
     "output_type": "display_data"
    }
   ],
   "source": [
    "%matplotlib inline\n",
    "import seaborn\n",
    "subplot = df.sum(axis=1).plot()\n",
    "subplot.set(ylim=(0, None))"
   ]
  }
 ],
 "metadata": {
  "kernelspec": {
   "display_name": "Python 2",
   "language": "python",
   "name": "python2"
  },
  "language_info": {
   "codemirror_mode": {
    "name": "ipython",
    "version": 2
   },
   "file_extension": ".py",
   "mimetype": "text/x-python",
   "name": "python",
   "nbconvert_exporter": "python",
   "pygments_lexer": "ipython2",
   "version": "2.7.6"
  }
 },
 "nbformat": 4,
 "nbformat_minor": 0
}
