{
 "cells": [
  {
   "cell_type": "markdown",
   "metadata": {},
   "source": [
    "Global life expectancy versus income\n",
    "==================\n",
    "In the hunt for larger datasets to play with, I started looking at global data provided by the UN from http://data.un.org.\n",
    "The typical example you see if life expectancy versus income, so let's see how easy it is to compare that."
   ]
  },
  {
   "cell_type": "markdown",
   "metadata": {},
   "source": [
    "Gross National Income (GNI)\n",
    "-----------------------------\n",
    "This indicator is defined:\n",
    "\n",
    "http://data.worldbank.org/indicator/NY.GNP.PCAP.PP.CD\n",
    "\n",
    "We can download the UN 'GNI per capita, PPP (current international $)' dataset from:\n",
    "\n",
    "http://data.un.org/Data.aspx?d=WDI&f=Indicator_Code:NY.GNP.PCAP.PP.CD&c=2,4,5&s=Country_Name:asc,Year:desc&v=1\n",
    "\n",
    "The raw data looks like:"
   ]
  },
  {
   "cell_type": "code",
   "execution_count": 1,
   "metadata": {
    "collapsed": false
   },
   "outputs": [
    {
     "data": {
      "text/html": [
       "<div>\n",
       "<table border=\"1\" class=\"dataframe\">\n",
       "  <thead>\n",
       "    <tr style=\"text-align: right;\">\n",
       "      <th></th>\n",
       "      <th>Country or Area</th>\n",
       "      <th>Year</th>\n",
       "      <th>Value</th>\n",
       "      <th>Value Footnotes</th>\n",
       "    </tr>\n",
       "  </thead>\n",
       "  <tbody>\n",
       "    <tr>\n",
       "      <th>0</th>\n",
       "      <td>Afghanistan</td>\n",
       "      <td>2013</td>\n",
       "      <td>1960</td>\n",
       "      <td>NaN</td>\n",
       "    </tr>\n",
       "    <tr>\n",
       "      <th>1</th>\n",
       "      <td>Afghanistan</td>\n",
       "      <td>2012</td>\n",
       "      <td>1940</td>\n",
       "      <td>NaN</td>\n",
       "    </tr>\n",
       "    <tr>\n",
       "      <th>2</th>\n",
       "      <td>Afghanistan</td>\n",
       "      <td>2011</td>\n",
       "      <td>1700</td>\n",
       "      <td>NaN</td>\n",
       "    </tr>\n",
       "    <tr>\n",
       "      <th>3</th>\n",
       "      <td>Afghanistan</td>\n",
       "      <td>2010</td>\n",
       "      <td>1610</td>\n",
       "      <td>NaN</td>\n",
       "    </tr>\n",
       "    <tr>\n",
       "      <th>4</th>\n",
       "      <td>Afghanistan</td>\n",
       "      <td>2009</td>\n",
       "      <td>1500</td>\n",
       "      <td>NaN</td>\n",
       "    </tr>\n",
       "  </tbody>\n",
       "</table>\n",
       "</div>"
      ],
      "text/plain": [
       "  Country or Area  Year  Value  Value Footnotes\n",
       "0     Afghanistan  2013   1960              NaN\n",
       "1     Afghanistan  2012   1940              NaN\n",
       "2     Afghanistan  2011   1700              NaN\n",
       "3     Afghanistan  2010   1610              NaN\n",
       "4     Afghanistan  2009   1500              NaN"
      ]
     },
     "execution_count": 1,
     "metadata": {},
     "output_type": "execute_result"
    }
   ],
   "source": [
    "import pandas\n",
    "pandas.read_csv('../data/un/wdi-gni-per-capita-ppp.csv').head()"
   ]
  },
  {
   "cell_type": "markdown",
   "metadata": {},
   "source": [
    "That's good - but we don't need all the historical data - let's just extract the data from 2012:"
   ]
  },
  {
   "cell_type": "code",
   "execution_count": 2,
   "metadata": {
    "collapsed": false
   },
   "outputs": [
    {
     "data": {
      "text/html": [
       "<div>\n",
       "<table border=\"1\" class=\"dataframe\">\n",
       "  <thead>\n",
       "    <tr style=\"text-align: right;\">\n",
       "      <th></th>\n",
       "      <th>GNI</th>\n",
       "    </tr>\n",
       "    <tr>\n",
       "      <th>Country</th>\n",
       "      <th></th>\n",
       "    </tr>\n",
       "  </thead>\n",
       "  <tbody>\n",
       "    <tr>\n",
       "      <th>Afghanistan</th>\n",
       "      <td>1940</td>\n",
       "    </tr>\n",
       "    <tr>\n",
       "      <th>Albania</th>\n",
       "      <td>9930</td>\n",
       "    </tr>\n",
       "    <tr>\n",
       "      <th>Algeria</th>\n",
       "      <td>12860</td>\n",
       "    </tr>\n",
       "    <tr>\n",
       "      <th>Angola</th>\n",
       "      <td>6580</td>\n",
       "    </tr>\n",
       "    <tr>\n",
       "      <th>Antigua and Barbuda</th>\n",
       "      <td>20060</td>\n",
       "    </tr>\n",
       "  </tbody>\n",
       "</table>\n",
       "</div>"
      ],
      "text/plain": [
       "                       GNI\n",
       "Country                   \n",
       "Afghanistan           1940\n",
       "Albania               9930\n",
       "Algeria              12860\n",
       "Angola                6580\n",
       "Antigua and Barbuda  20060"
      ]
     },
     "execution_count": 2,
     "metadata": {},
     "output_type": "execute_result"
    }
   ],
   "source": [
    "df_gni = pandas.read_csv('../data/un/wdi-gni-per-capita-ppp.csv')\n",
    "# find only the rows from 2012\n",
    "df_gni_2012 = df_gni[df_gni['Year'] == '2012'].copy()\n",
    "# drop the 'Value Footnotes' and 'Year' columns\n",
    "df_gni_2012.drop('Value Footnotes', axis=1, inplace=True)\n",
    "df_gni_2012.drop('Year', axis=1, inplace=True)\n",
    "# rename the remaining columns and set the index\n",
    "df_gni_2012.columns = ['Country', 'GNI']\n",
    "df_gni_2012.set_index('Country', inplace=True)\n",
    "df_gni_2012.head()"
   ]
  },
  {
   "cell_type": "markdown",
   "metadata": {},
   "source": [
    "Life expectancy\n",
    "----------------\n",
    "Now we load the UN life ecpectancy data, retrieved from:\n",
    "\n",
    "http://data.un.org/Data.aspx?d=WHO&f=MEASURE_CODE:WHOSIS_000001&c=2,4,6,10&s=_crEngNameOrderBy:asc,_timeEngNameOrderBy:desc&v=1"
   ]
  },
  {
   "cell_type": "code",
   "execution_count": 3,
   "metadata": {
    "collapsed": false
   },
   "outputs": [
    {
     "data": {
      "text/html": [
       "<div>\n",
       "<table border=\"1\" class=\"dataframe\">\n",
       "  <thead>\n",
       "    <tr style=\"text-align: right;\">\n",
       "      <th></th>\n",
       "      <th>Country or Area</th>\n",
       "      <th>Year(s)</th>\n",
       "      <th>GENDER</th>\n",
       "      <th>Value</th>\n",
       "      <th>Value Footnotes</th>\n",
       "    </tr>\n",
       "  </thead>\n",
       "  <tbody>\n",
       "    <tr>\n",
       "      <th>0</th>\n",
       "      <td>Afghanistan</td>\n",
       "      <td>2012</td>\n",
       "      <td>Male</td>\n",
       "      <td>58</td>\n",
       "      <td>NaN</td>\n",
       "    </tr>\n",
       "    <tr>\n",
       "      <th>1</th>\n",
       "      <td>Afghanistan</td>\n",
       "      <td>2012</td>\n",
       "      <td>Female</td>\n",
       "      <td>61</td>\n",
       "      <td>NaN</td>\n",
       "    </tr>\n",
       "    <tr>\n",
       "      <th>2</th>\n",
       "      <td>Afghanistan</td>\n",
       "      <td>2012</td>\n",
       "      <td>Both sexes</td>\n",
       "      <td>60</td>\n",
       "      <td>NaN</td>\n",
       "    </tr>\n",
       "    <tr>\n",
       "      <th>3</th>\n",
       "      <td>Afghanistan</td>\n",
       "      <td>2000</td>\n",
       "      <td>Male</td>\n",
       "      <td>54</td>\n",
       "      <td>NaN</td>\n",
       "    </tr>\n",
       "    <tr>\n",
       "      <th>4</th>\n",
       "      <td>Afghanistan</td>\n",
       "      <td>2000</td>\n",
       "      <td>Female</td>\n",
       "      <td>56</td>\n",
       "      <td>NaN</td>\n",
       "    </tr>\n",
       "  </tbody>\n",
       "</table>\n",
       "</div>"
      ],
      "text/plain": [
       "  Country or Area  Year(s)      GENDER  Value  Value Footnotes\n",
       "0     Afghanistan     2012        Male     58              NaN\n",
       "1     Afghanistan     2012      Female     61              NaN\n",
       "2     Afghanistan     2012  Both sexes     60              NaN\n",
       "3     Afghanistan     2000        Male     54              NaN\n",
       "4     Afghanistan     2000      Female     56              NaN"
      ]
     },
     "execution_count": 3,
     "metadata": {},
     "output_type": "execute_result"
    }
   ],
   "source": [
    "pandas.read_csv('../data/un/who-life-expectancy-at-birth.csv').head()"
   ]
  },
  {
   "cell_type": "markdown",
   "metadata": {},
   "source": [
    "Again, we're only interested in the current data, so let's extract what we need:"
   ]
  },
  {
   "cell_type": "code",
   "execution_count": 4,
   "metadata": {
    "collapsed": false
   },
   "outputs": [
    {
     "data": {
      "text/html": [
       "<div>\n",
       "<table border=\"1\" class=\"dataframe\">\n",
       "  <thead>\n",
       "    <tr style=\"text-align: right;\">\n",
       "      <th></th>\n",
       "      <th>Gender</th>\n",
       "      <th>Expectancy</th>\n",
       "    </tr>\n",
       "    <tr>\n",
       "      <th>Country</th>\n",
       "      <th></th>\n",
       "      <th></th>\n",
       "    </tr>\n",
       "  </thead>\n",
       "  <tbody>\n",
       "    <tr>\n",
       "      <th>Afghanistan</th>\n",
       "      <td>Male</td>\n",
       "      <td>58</td>\n",
       "    </tr>\n",
       "    <tr>\n",
       "      <th>Afghanistan</th>\n",
       "      <td>Female</td>\n",
       "      <td>61</td>\n",
       "    </tr>\n",
       "    <tr>\n",
       "      <th>Afghanistan</th>\n",
       "      <td>Both sexes</td>\n",
       "      <td>60</td>\n",
       "    </tr>\n",
       "    <tr>\n",
       "      <th>Albania</th>\n",
       "      <td>Male</td>\n",
       "      <td>73</td>\n",
       "    </tr>\n",
       "    <tr>\n",
       "      <th>Albania</th>\n",
       "      <td>Female</td>\n",
       "      <td>75</td>\n",
       "    </tr>\n",
       "  </tbody>\n",
       "</table>\n",
       "</div>"
      ],
      "text/plain": [
       "                 Gender  Expectancy\n",
       "Country                            \n",
       "Afghanistan        Male          58\n",
       "Afghanistan      Female          61\n",
       "Afghanistan  Both sexes          60\n",
       "Albania            Male          73\n",
       "Albania          Female          75"
      ]
     },
     "execution_count": 4,
     "metadata": {},
     "output_type": "execute_result"
    }
   ],
   "source": [
    "df_life = pandas.read_csv('../data/un/who-life-expectancy-at-birth.csv')\n",
    "# find only the rows from 2012\n",
    "df_life.rename(columns={'Year(s)':'Year'}, inplace=True)\n",
    "df_life_2012 = df_life[df_life['Year'] == 2012].copy()\n",
    "# drop the 'Value Footnotes' and 'Year' columns\n",
    "df_life_2012.drop('Value Footnotes', axis=1, inplace=True)\n",
    "df_life_2012.drop('Year', axis=1, inplace=True)\n",
    "# rename the remaining columns\n",
    "df_life_2012.columns = ['Country', 'Gender', 'Expectancy']\n",
    "# set the index to a composite key\n",
    "df_life_2012.set_index('Country', inplace=True)\n",
    "df_life_2012.head()"
   ]
  },
  {
   "cell_type": "markdown",
   "metadata": {},
   "source": [
    "Combining GNI and life expectancy datasets\n",
    "--------------------------------------------\n",
    "We can 'join' the datasets on the 'Country' column, as we would with database tables."
   ]
  },
  {
   "cell_type": "code",
   "execution_count": 5,
   "metadata": {
    "collapsed": false
   },
   "outputs": [
    {
     "data": {
      "text/html": [
       "<div>\n",
       "<table border=\"1\" class=\"dataframe\">\n",
       "  <thead>\n",
       "    <tr style=\"text-align: right;\">\n",
       "      <th></th>\n",
       "      <th>GNI</th>\n",
       "      <th>Gender</th>\n",
       "      <th>Expectancy</th>\n",
       "    </tr>\n",
       "    <tr>\n",
       "      <th>Country</th>\n",
       "      <th></th>\n",
       "      <th></th>\n",
       "      <th></th>\n",
       "    </tr>\n",
       "  </thead>\n",
       "  <tbody>\n",
       "    <tr>\n",
       "      <th>Afghanistan</th>\n",
       "      <td>1940</td>\n",
       "      <td>Male</td>\n",
       "      <td>58</td>\n",
       "    </tr>\n",
       "    <tr>\n",
       "      <th>Afghanistan</th>\n",
       "      <td>1940</td>\n",
       "      <td>Female</td>\n",
       "      <td>61</td>\n",
       "    </tr>\n",
       "    <tr>\n",
       "      <th>Albania</th>\n",
       "      <td>9930</td>\n",
       "      <td>Male</td>\n",
       "      <td>73</td>\n",
       "    </tr>\n",
       "    <tr>\n",
       "      <th>Albania</th>\n",
       "      <td>9930</td>\n",
       "      <td>Female</td>\n",
       "      <td>75</td>\n",
       "    </tr>\n",
       "    <tr>\n",
       "      <th>Algeria</th>\n",
       "      <td>12860</td>\n",
       "      <td>Male</td>\n",
       "      <td>70</td>\n",
       "    </tr>\n",
       "  </tbody>\n",
       "</table>\n",
       "</div>"
      ],
      "text/plain": [
       "               GNI  Gender  Expectancy\n",
       "Country                               \n",
       "Afghanistan   1940    Male          58\n",
       "Afghanistan   1940  Female          61\n",
       "Albania       9930    Male          73\n",
       "Albania       9930  Female          75\n",
       "Algeria      12860    Male          70"
      ]
     },
     "execution_count": 5,
     "metadata": {},
     "output_type": "execute_result"
    }
   ],
   "source": [
    "# Note: we use an inner join as we're only interested in countries that we have both data for\n",
    "df_combined = df_gni_2012.join(df_life_2012, how='inner')\n",
    "df_combined = df_combined[df_combined['Gender'] != 'Both sexes']\n",
    "df_combined.head()"
   ]
  },
  {
   "cell_type": "code",
   "execution_count": 6,
   "metadata": {
    "collapsed": false
   },
   "outputs": [
    {
     "data": {
      "text/plain": [
       "<seaborn.axisgrid.FacetGrid at 0x7f4850c2c750>"
      ]
     },
     "execution_count": 6,
     "metadata": {},
     "output_type": "execute_result"
    },
    {
     "data": {
      "image/png": "[encoded data removed]",
      "text/plain": [
       "<matplotlib.figure.Figure at 0x7f48509c63d0>"
      ]
     },
     "metadata": {},
     "output_type": "display_data"
    }
   ],
   "source": [
    "import seaborn\n",
    "%matplotlib inline\n",
    "grid = seaborn.lmplot('GNI', 'Expectancy', data=df_combined, hue='Gender', fit_reg=False, size=10, y_jitter=0.2, palette='Set1')\n",
    "grid.set(xlim=(0, 50000), ylim=(0, 90))"
   ]
  },
  {
   "cell_type": "markdown",
   "metadata": {},
   "source": [
    "Two interesting things jump out when you plot the data:\n",
    "- women universally living longer than men; this is well-known, but maybe it's interesting to see how this gap is affected by income - is the gap constant, or is there some sort of linear or otherwise relationship to income?\n",
    "- there's a very clear outlier with good income around 25k, but sub-60 year life expectancy - where could this be?"
   ]
  },
  {
   "cell_type": "markdown",
   "metadata": {},
   "source": [
    "Let's try to identify the outlier first:"
   ]
  },
  {
   "cell_type": "code",
   "execution_count": 7,
   "metadata": {
    "collapsed": false
   },
   "outputs": [
    {
     "data": {
      "text/html": [
       "<div>\n",
       "<table border=\"1\" class=\"dataframe\">\n",
       "  <thead>\n",
       "    <tr style=\"text-align: right;\">\n",
       "      <th></th>\n",
       "      <th>GNI</th>\n",
       "      <th>Gender</th>\n",
       "      <th>Expectancy</th>\n",
       "    </tr>\n",
       "    <tr>\n",
       "      <th>Country</th>\n",
       "      <th></th>\n",
       "      <th></th>\n",
       "      <th></th>\n",
       "    </tr>\n",
       "  </thead>\n",
       "  <tbody>\n",
       "    <tr>\n",
       "      <th>Equatorial Guinea</th>\n",
       "      <td>24660</td>\n",
       "      <td>Male</td>\n",
       "      <td>54</td>\n",
       "    </tr>\n",
       "    <tr>\n",
       "      <th>Equatorial Guinea</th>\n",
       "      <td>24660</td>\n",
       "      <td>Female</td>\n",
       "      <td>57</td>\n",
       "    </tr>\n",
       "  </tbody>\n",
       "</table>\n",
       "</div>"
      ],
      "text/plain": [
       "                     GNI  Gender  Expectancy\n",
       "Country                                     \n",
       "Equatorial Guinea  24660    Male          54\n",
       "Equatorial Guinea  24660  Female          57"
      ]
     },
     "execution_count": 7,
     "metadata": {},
     "output_type": "execute_result"
    }
   ],
   "source": [
    "df_combined[(df_combined['GNI'] > 20000) & (df_combined['Expectancy'] < 60)]"
   ]
  },
  {
   "cell_type": "markdown",
   "metadata": {},
   "source": [
    "A bit of googling quickly identifies the reasons for this outlier:\n",
    "\n",
    ">    \"The discovery of large oil reserves in 1996 and its subsequent exploitation have contributed to a dramatic increase in government revenue.\"\n",
    "    https://en.wikipedia.org/wiki/Economy_of_Equatorial_Guinea\n",
    "\n",
    "And the effect this has had on the economy is clearly seen when comparing to Spain: https://en.wikipedia.org/wiki/File:Rent_Equatorial_Guinea.png\n",
    "\n",
    "So the economy is surging, but life expectancy has yet to catch up - it would be interesting to monitor the progress of life expectancy in this country to see how far it lags.\n"
   ]
  },
  {
   "cell_type": "markdown",
   "metadata": {},
   "source": [
    "Let's take a look now at the life expectancy discrepancy between male and female.\n",
    "The simple thing to do is just plot the difference:"
   ]
  },
  {
   "cell_type": "code",
   "execution_count": 8,
   "metadata": {
    "collapsed": false
   },
   "outputs": [
    {
     "data": {
      "text/html": [
       "<div>\n",
       "<table border=\"1\" class=\"dataframe\">\n",
       "  <thead>\n",
       "    <tr>\n",
       "      <th></th>\n",
       "      <th colspan=\"2\" halign=\"left\">GNI</th>\n",
       "      <th colspan=\"2\" halign=\"left\">Expectancy</th>\n",
       "    </tr>\n",
       "    <tr>\n",
       "      <th>Gender</th>\n",
       "      <th>Female</th>\n",
       "      <th>Male</th>\n",
       "      <th>Female</th>\n",
       "      <th>Male</th>\n",
       "    </tr>\n",
       "    <tr>\n",
       "      <th>Country</th>\n",
       "      <th></th>\n",
       "      <th></th>\n",
       "      <th></th>\n",
       "      <th></th>\n",
       "    </tr>\n",
       "  </thead>\n",
       "  <tbody>\n",
       "    <tr>\n",
       "      <th>Afghanistan</th>\n",
       "      <td>1940</td>\n",
       "      <td>1940</td>\n",
       "      <td>61</td>\n",
       "      <td>58</td>\n",
       "    </tr>\n",
       "    <tr>\n",
       "      <th>Albania</th>\n",
       "      <td>9930</td>\n",
       "      <td>9930</td>\n",
       "      <td>75</td>\n",
       "      <td>73</td>\n",
       "    </tr>\n",
       "    <tr>\n",
       "      <th>Algeria</th>\n",
       "      <td>12860</td>\n",
       "      <td>12860</td>\n",
       "      <td>73</td>\n",
       "      <td>70</td>\n",
       "    </tr>\n",
       "    <tr>\n",
       "      <th>Angola</th>\n",
       "      <td>6580</td>\n",
       "      <td>6580</td>\n",
       "      <td>52</td>\n",
       "      <td>50</td>\n",
       "    </tr>\n",
       "    <tr>\n",
       "      <th>Antigua and Barbuda</th>\n",
       "      <td>20060</td>\n",
       "      <td>20060</td>\n",
       "      <td>77</td>\n",
       "      <td>73</td>\n",
       "    </tr>\n",
       "  </tbody>\n",
       "</table>\n",
       "</div>"
      ],
      "text/plain": [
       "                       GNI        Expectancy     \n",
       "Gender              Female   Male     Female Male\n",
       "Country                                          \n",
       "Afghanistan           1940   1940         61   58\n",
       "Albania               9930   9930         75   73\n",
       "Algeria              12860  12860         73   70\n",
       "Angola                6580   6580         52   50\n",
       "Antigua and Barbuda  20060  20060         77   73"
      ]
     },
     "execution_count": 8,
     "metadata": {},
     "output_type": "execute_result"
    }
   ],
   "source": [
    "# first, pivot the dataframe so that Male and Female become columns\n",
    "df_pivot = df_combined.pivot(index=df_combined.index, columns='Gender')\n",
    "df_pivot.head()"
   ]
  },
  {
   "cell_type": "markdown",
   "metadata": {},
   "source": [
    "Note that the GNI values in the pivoted table are now duplicated - they're the same for men and women."
   ]
  },
  {
   "cell_type": "markdown",
   "metadata": {},
   "source": [
    "Let's get the data we need for the plot into a new dataframe:"
   ]
  },
  {
   "cell_type": "code",
   "execution_count": 9,
   "metadata": {
    "collapsed": false
   },
   "outputs": [
    {
     "data": {
      "text/html": [
       "<div>\n",
       "<table border=\"1\" class=\"dataframe\">\n",
       "  <thead>\n",
       "    <tr style=\"text-align: right;\">\n",
       "      <th></th>\n",
       "      <th>GNI</th>\n",
       "      <th>Gap</th>\n",
       "    </tr>\n",
       "    <tr>\n",
       "      <th>Country</th>\n",
       "      <th></th>\n",
       "      <th></th>\n",
       "    </tr>\n",
       "  </thead>\n",
       "  <tbody>\n",
       "    <tr>\n",
       "      <th>Afghanistan</th>\n",
       "      <td>1940</td>\n",
       "      <td>3</td>\n",
       "    </tr>\n",
       "    <tr>\n",
       "      <th>Albania</th>\n",
       "      <td>9930</td>\n",
       "      <td>2</td>\n",
       "    </tr>\n",
       "    <tr>\n",
       "      <th>Algeria</th>\n",
       "      <td>12860</td>\n",
       "      <td>3</td>\n",
       "    </tr>\n",
       "    <tr>\n",
       "      <th>Angola</th>\n",
       "      <td>6580</td>\n",
       "      <td>2</td>\n",
       "    </tr>\n",
       "    <tr>\n",
       "      <th>Antigua and Barbuda</th>\n",
       "      <td>20060</td>\n",
       "      <td>4</td>\n",
       "    </tr>\n",
       "  </tbody>\n",
       "</table>\n",
       "</div>"
      ],
      "text/plain": [
       "                       GNI  Gap\n",
       "Country                        \n",
       "Afghanistan           1940    3\n",
       "Albania               9930    2\n",
       "Algeria              12860    3\n",
       "Angola                6580    2\n",
       "Antigua and Barbuda  20060    4"
      ]
     },
     "execution_count": 9,
     "metadata": {},
     "output_type": "execute_result"
    }
   ],
   "source": [
    "df_gap = pandas.DataFrame()\n",
    "df_gap['GNI'] = df_pivot['GNI', 'Female']\n",
    "df_gap['Gap'] = df_pivot['Expectancy', 'Female'] - df_pivot['Expectancy', 'Male']\n",
    "df_gap.head()"
   ]
  },
  {
   "cell_type": "code",
   "execution_count": 10,
   "metadata": {
    "collapsed": false
   },
   "outputs": [
    {
     "data": {
      "text/plain": [
       "[(0, 80000)]"
      ]
     },
     "execution_count": 10,
     "metadata": {},
     "output_type": "execute_result"
    },
    {
     "data": {
      "image/png": "[encoded data removed]",
      "text/plain": [
       "<matplotlib.figure.Figure at 0x7f484e67b710>"
      ]
     },
     "metadata": {},
     "output_type": "display_data"
    }
   ],
   "source": [
    "seaborn.regplot('GNI', 'Gap', data=df_gap, y_jitter=0.3).set(xlim=(0,80000))"
   ]
  },
  {
   "cell_type": "markdown",
   "metadata": {},
   "source": [
    "So we can see that there is a lot more variation between countries with lower GNI.\n",
    "And in very poor countries there is little difference between men and women, perhaps because they don't get the opportunity to reach a 'natural' old age, due to disease, malnutrition, etc.\n",
    "\n",
    "Again, plotting the data provides an obvious outlier - a country where men reliably outlive women:"
   ]
  },
  {
   "cell_type": "code",
   "execution_count": 11,
   "metadata": {
    "collapsed": false
   },
   "outputs": [
    {
     "data": {
      "text/html": [
       "<div>\n",
       "<table border=\"1\" class=\"dataframe\">\n",
       "  <thead>\n",
       "    <tr style=\"text-align: right;\">\n",
       "      <th></th>\n",
       "      <th>GNI</th>\n",
       "      <th>Gap</th>\n",
       "    </tr>\n",
       "    <tr>\n",
       "      <th>Country</th>\n",
       "      <th></th>\n",
       "      <th></th>\n",
       "    </tr>\n",
       "  </thead>\n",
       "  <tbody>\n",
       "    <tr>\n",
       "      <th>Tonga</th>\n",
       "      <td>5370</td>\n",
       "      <td>-5</td>\n",
       "    </tr>\n",
       "  </tbody>\n",
       "</table>\n",
       "</div>"
      ],
      "text/plain": [
       "          GNI  Gap\n",
       "Country           \n",
       "Tonga    5370   -5"
      ]
     },
     "execution_count": 11,
     "metadata": {},
     "output_type": "execute_result"
    }
   ],
   "source": [
    "df_gap[df_gap['Gap'] < 0]"
   ]
  },
  {
   "cell_type": "markdown",
   "metadata": {},
   "source": [
    "Regression using k-nearest neighbours\n",
    "---------------------------------------\n",
    "The scatter plot above is quite hard to read.\n",
    "Let's see if we can get a clearer idea of the relationship using _k-nearest neighbours_ regression."
   ]
  },
  {
   "cell_type": "code",
   "execution_count": 12,
   "metadata": {
    "collapsed": false
   },
   "outputs": [
    {
     "data": {
      "text/html": [
       "<div>\n",
       "<table border=\"1\" class=\"dataframe\">\n",
       "  <thead>\n",
       "    <tr style=\"text-align: right;\">\n",
       "      <th></th>\n",
       "      <th>Male Expectancy</th>\n",
       "      <th>Female Expectancy</th>\n",
       "      <th>GNI</th>\n",
       "    </tr>\n",
       "    <tr>\n",
       "      <th>Country</th>\n",
       "      <th></th>\n",
       "      <th></th>\n",
       "      <th></th>\n",
       "    </tr>\n",
       "  </thead>\n",
       "  <tbody>\n",
       "    <tr>\n",
       "      <th>Afghanistan</th>\n",
       "      <td>58</td>\n",
       "      <td>61</td>\n",
       "      <td>1940</td>\n",
       "    </tr>\n",
       "    <tr>\n",
       "      <th>Albania</th>\n",
       "      <td>73</td>\n",
       "      <td>75</td>\n",
       "      <td>9930</td>\n",
       "    </tr>\n",
       "    <tr>\n",
       "      <th>Algeria</th>\n",
       "      <td>70</td>\n",
       "      <td>73</td>\n",
       "      <td>12860</td>\n",
       "    </tr>\n",
       "    <tr>\n",
       "      <th>Angola</th>\n",
       "      <td>50</td>\n",
       "      <td>52</td>\n",
       "      <td>6580</td>\n",
       "    </tr>\n",
       "    <tr>\n",
       "      <th>Antigua and Barbuda</th>\n",
       "      <td>73</td>\n",
       "      <td>77</td>\n",
       "      <td>20060</td>\n",
       "    </tr>\n",
       "  </tbody>\n",
       "</table>\n",
       "</div>"
      ],
      "text/plain": [
       "                     Male Expectancy  Female Expectancy    GNI\n",
       "Country                                                       \n",
       "Afghanistan                       58                 61   1940\n",
       "Albania                           73                 75   9930\n",
       "Algeria                           70                 73  12860\n",
       "Angola                            50                 52   6580\n",
       "Antigua and Barbuda               73                 77  20060"
      ]
     },
     "execution_count": 12,
     "metadata": {},
     "output_type": "execute_result"
    }
   ],
   "source": [
    "# get the columns we need to train our knn regressor\n",
    "df_knn = pandas.DataFrame()\n",
    "df_knn['Male Expectancy'] = df_pivot['Expectancy', 'Male']\n",
    "df_knn['Female Expectancy'] = df_pivot['Expectancy', 'Female']\n",
    "df_knn['GNI'] = df_pivot['GNI', 'Male']\n",
    "# get rid of any incomplete rows - we can't train with these\n",
    "df_knn.dropna(inplace=True)\n",
    "df_knn.head()"
   ]
  },
  {
   "cell_type": "code",
   "execution_count": 13,
   "metadata": {
    "collapsed": false,
    "scrolled": false
   },
   "outputs": [
    {
     "data": {
      "text/plain": [
       "<matplotlib.legend.Legend at 0x7f484e63eb90>"
      ]
     },
     "execution_count": 13,
     "metadata": {},
     "output_type": "execute_result"
    },
    {
     "data": {
      "image/png": "[encoded data removed]",
      "text/plain": [
       "<matplotlib.figure.Figure at 0x7f484e63ed90>"
      ]
     },
     "metadata": {},
     "output_type": "display_data"
    }
   ],
   "source": [
    "import numpy\n",
    "import matplotlib.pyplot as plt\n",
    "from sklearn.neighbors import KNeighborsRegressor\n",
    "\n",
    "\n",
    "def knn_regress(dataframe, xcols, ycol, k):\n",
    "    \"\"\"Construct a kNN regressor against a training dataframe.\n",
    "    \n",
    "    dataframe - dataframe to train against\n",
    "    xcols - list of column names to use as input\n",
    "    ycol  - column to predict\n",
    "    k - number of neighbours to use\n",
    "    \"\"\"\n",
    "    knn = KNeighborsRegressor(n_neighbors=k)\n",
    "    knn.fit(dataframe[xcols], dataframe[ycol])\n",
    "    return knn\n",
    "\n",
    "\n",
    "def sample_range(series, samples=100):\n",
    "    \"\"\"\n",
    "    Linearly sample along the extent of a Series\n",
    "    \"\"\"\n",
    "    return numpy.linspace(series.min(), series.max(), samples)[:, numpy.newaxis]\n",
    "\n",
    "\n",
    "plt.figure(figsize=(12, 5))\n",
    "# use enough neighbour points to get a resonably smooth curve\n",
    "k = 15\n",
    "\n",
    "# regress against both male and female expectancy\n",
    "for ycol in ['Male Expectancy', 'Female Expectancy']:\n",
    "    # train the regressor\n",
    "    knn = knn_regress(df_knn, ['GNI'], ycol, k)\n",
    "\n",
    "    # plot the regressor's predictions along the GNI axis\n",
    "    gni_samples = sample_range(df_knn['GNI'])\n",
    "    predictions = knn.predict(gni_samples)\n",
    "    plt.plot(gni_samples, predictions, label=ycol)\n",
    "\n",
    "plt.legend(loc='lower right')\n"
   ]
  },
  {
   "cell_type": "markdown",
   "metadata": {},
   "source": [
    "This more clearly shows:\n",
    "\n",
    "- the relationship between GNI and expectancy\n",
    "- the gap between male and female expectancy\n"
   ]
  }
 ],
 "metadata": {
  "kernelspec": {
   "display_name": "Python 2",
   "language": "python",
   "name": "python2"
  },
  "language_info": {
   "codemirror_mode": {
    "name": "ipython",
    "version": 2
   },
   "file_extension": ".py",
   "mimetype": "text/x-python",
   "name": "python",
   "nbconvert_exporter": "python",
   "pygments_lexer": "ipython2",
   "version": "2.7.6"
  }
 },
 "nbformat": 4,
 "nbformat_minor": 0
}
